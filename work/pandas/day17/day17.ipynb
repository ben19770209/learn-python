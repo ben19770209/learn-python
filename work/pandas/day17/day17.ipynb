{
 "metadata": {
  "language_info": {
   "codemirror_mode": {
    "name": "ipython",
    "version": 3
   },
   "file_extension": ".py",
   "mimetype": "text/x-python",
   "name": "python",
   "nbconvert_exporter": "python",
   "pygments_lexer": "ipython3",
   "version": 3
  },
  "orig_nbformat": 2
 },
 "nbformat": 4,
 "nbformat_minor": 2,
 "cells": [
  {
   "cell_type": "code",
   "execution_count": null,
   "metadata": {},
   "outputs": [],
   "source": [
    "#題目 : \n",
    "# 1. 在速度較慢的時候，可以先從哪邊開始檢查？\n",
    "\n",
    "三個加速方法:\n",
    "1. 讀取資料型態選最快速的\n",
    "2. 多使用內建函數\n",
    "3. 向量化的資料處理"
   ]
  },
  {
   "cell_type": "code",
   "execution_count": null,
   "metadata": {},
   "outputs": [],
   "source": [
    "# 2. 資料過大時應採取什麼方式讓記憶體占用量下降？\n",
    "\n",
    "遇到大資料集時，常有記憶體不足的問題，還有速度上變慢，此時我們可以將欄位的型態降級，不需要存太多元素在一個數字中"
   ]
  }
 ]
}